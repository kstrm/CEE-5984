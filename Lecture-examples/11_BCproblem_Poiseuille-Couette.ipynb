{
 "cells": [
  {
   "cell_type": "code",
   "execution_count": null,
   "metadata": {},
   "outputs": [],
   "source": [
    "%pylab inline\n",
    "%config InlineBackend.figure_format='retina' # hig-res plots for a Retina display\n",
    "import scipy.linalg"
   ]
  },
  {
   "cell_type": "markdown",
   "metadata": {},
   "source": [
    "# Problem setup\n",
    "\n",
    "We would like to compute the velocity distribution as a function of wall speed and the pressure gradient in a simple Poiseuille-Couette flow. The steup for the problem is shown below.\n",
    "\n",
    "![alt text](figures/Poiseuille-Couette.png \"Title\")\n",
    "\n",
    "The governing equations for this problem reduce down to:\n",
    "\n",
    "\\begin{equation}\n",
    "0 = \\frac{d p}{dx}+\\mu \\frac{d^2 u}{dz^2}\n",
    "\\end{equation}\n",
    "\n",
    "or \n",
    "\n",
    "\\begin{equation}\n",
    "\\frac{d^2 u}{dz^2} + \\frac{G}{\\mu} = 0\n",
    "\\end{equation}\n",
    "\n",
    "with $dp/dx$ equal to the constant $G$. The boundary conditions for the problem are $u(z=0)=U_b$ and $u(z=h)=U_t$. A numerical solution to the problem can be found following:\n",
    "\n",
    "$$\\begin{equation}\n",
    "[L]_{jk}[u]_k=-[r]_j\n",
    "\\end{equation}$$\n",
    "\n",
    "Here $[L]_{jk}$ is, in this particular case, the derivative mapping matrix for the second spatial derivative of $u$ with respect to $z$, $[L]=[D2]$. For this case, for the problem, we will use the central difference approximation for the second derivative to define $D2$:\n",
    "\n",
    "$$f_j^{''}=\\frac{f_{j-1}-2*f_{j}+f_{i+i}}{\\Delta\n",
    "\n",
    "$$D2=\\frac{1}{\\Delta x^2}\\begin{bmatrix} \n",
    "      -1 & 0 &\\ldots && & 0 \\\\\n",
    "      1 & -2 & 1 &\\ldots & & 0\\\\\n",
    "      0 & 1 & -2 & 1& \\ldots & 0\\\\\n",
    "       &  &  &\\ldots &  & \\\\\n",
    "       0 & \\ldots & 0 & 1& -2 & 1\\\\\n",
    "      0 &  &  & \\ldots & 0 & -1\\\\\n",
    "\\end{bmatrix}$$\n",
    "\n",
    "The matrix $[r]_j$ is $[r]_j=[U_b, G_1/\\mu, \\dots, G_N/\\mu,U_t]$. A solution for $u_k$ is found by solving by inverting $D2$ and multiplying with $-r$, $u_k=[L]_{jk}^{-1}(-[r]_k)$.\n",
    "\n",
    "The analytic solution to the governing equation is straightforward if $\\mu$ is not a function of $z$. The analytic solution is:\n",
    "\n",
    "$$\\begin{equation}\n",
    "\\frac{u}{U_t}=P\\frac{z}{h}\\left(1-\\frac{z}{h}\\right)+\\frac{z}{h}\n",
    "\\end{equation}$$\n",
    "\n",
    "Where $P$ is:\n",
    "\n",
    "$$\\begin{equation}\n",
    "P=-\\frac{G h^2}{2\\mu U_t}=\\frac{h^2}{2\\mu U_t}\\left(-\\frac{dp}{dx}\\right)\n",
    "\\end{equation}$$\n",
    "\n",
    "with \n",
    "\n",
    "$$\\begin{equation}\n",
    "\\frac{dp}{dx} = G\n",
    "\\end{equation}$$\n",
    "\n"
   ]
  },
  {
   "cell_type": "markdown",
   "metadata": {},
   "source": [
    "## Numerical Calculations"
   ]
  },
  {
   "cell_type": "code",
   "execution_count": null,
   "metadata": {},
   "outputs": [],
   "source": [
    "def density(To,Sppt):\n",
    "    rho_fresh=1000*(1-(To +288.9414)/(508929.2*(To+68.12963))*(To-3.9863)**2)\n",
    "    Acoef = 0.824493 - 0.0040899*To + 0.000076438*To**2 -0.00000082467*To**3 + 0.0000000053675*To**4\n",
    "    Bcoef = -0.005724 + 0.00010227*To - 0.0000016546*To**2\n",
    "    return rho_fresh + Acoef*Sppt + Bcoef*Sppt**(3/2) + 0.00048314*Sppt**2\n",
    "\n",
    "def visc(To):\n",
    "    return 2.7488e-07+1.4907e-06*exp(-0.034812*To)"
   ]
  },
  {
   "cell_type": "code",
   "execution_count": null,
   "metadata": {},
   "outputs": [],
   "source": [
    "# setup the stencil \n",
    "stencil = array([]) # central difference of the sencond derivative\n",
    "stencil"
   ]
  },
  {
   "cell_type": "code",
   "execution_count": null,
   "metadata": {},
   "outputs": [],
   "source": [
    "# set conditions for problem \n",
    "\n",
    "h =     # gap between the plates\n",
    "Ub =   # bottom plate velocity... formulation of G depends on Ub = 0\n",
    "Ut =   # top plate velocity \n",
    "\n",
    "N = 100 # number of discretized points\n",
    "\n",
    "P = \n",
    "\n",
    "# array setup\n",
    "\n",
    "dy = \n",
    "\n",
    "y = linspace(0,h,N+1)\n",
    "\n",
    "Sppt = 0 # salinity\n",
    "mu = visc(T)*density(T,Sppt)\n",
    "\n",
    "\n",
    "# setup the derivative mapping matrix\n",
    "\n",
    "D2 = zeros()\n",
    "count = 0\n",
    "\n",
    "\n",
    "D2 = D2*(1/dy**2) # make sure to divide by the appropriate dx or dt value here before setting the BC\n",
    "\n",
    "# set the upper and lower BC\n",
    "\n",
    "D2[0,0]=\n",
    "D2[N,N]=\n",
    "\n",
    "D2"
   ]
  },
  {
   "cell_type": "code",
   "execution_count": null,
   "metadata": {},
   "outputs": [],
   "source": [
    "# ------\n",
    "# G = 0.006/-0.006 for P = -3/3 if h = 1, Ut = 1\n",
    "# G = 0.004/-0.004 for P = -2/2 if h = 1, Ut = 1\n",
    "# G = 0.002/-0.002 for P = -1/1 if h = 1, Ut = 1\n",
    "# ------\n",
    "\n",
    "# setup the r matrix\n",
    "\n",
    "G = -2*mu*Ut*P/h**2\n",
    "\n",
    "r=zeros(N+1)\n",
    "r[1:N]=\n",
    "r[0]=       # velocity at the bottom plate\n",
    "r[N]=     # velocity at the top plate\n",
    "r_neg=-1*r.copy()\n",
    "\n",
    "# solve the linear system [D2][u]=[r_neg]\n",
    "\n",
    "u = \n",
    "\n",
    "fig, ax = plt.subplots()\n",
    "ax.plot(u/Ut,z/h)\n",
    "ax.set_xlabel('$U/U_t$')\n",
    "ax.set_ylabel('$z/h$');"
   ]
  },
  {
   "cell_type": "markdown",
   "metadata": {},
   "source": [
    "## Compare with the analytic solution"
   ]
  },
  {
   "cell_type": "code",
   "execution_count": null,
   "metadata": {},
   "outputs": [],
   "source": [
    "# analytic solution\n",
    "\n",
    "n = 500\n",
    "z_h = linspace(0,1,n)\n",
    "u_Ut_analytic = P*z_h*(1-z_h)+z_h\n",
    "\n",
    "fig, ax = plt.subplots()\n",
    "ax.plot(u_Ut_analytic,z_h, linewidth=5.0, label='analytic')\n",
    "ax.plot(u/Ut,z/h, linestyle='--', linewidth=2.0,label='numerical')\n",
    "ax.set_xlabel('$U/U_t$')\n",
    "ax.set_ylabel('$z/h$')\n",
    "legend(loc=2);"
   ]
  },
  {
   "cell_type": "markdown",
   "metadata": {},
   "source": [
    "## Plot numerical solution over a range of $P$ values"
   ]
  },
  {
   "cell_type": "code",
   "execution_count": null,
   "metadata": {},
   "outputs": [],
   "source": [
    "# look at numerical solution for a range of P values\n",
    "\n",
    "P_values = array([-3,-2,-1,0,1,2,3]) # range of P values \n",
    "\n",
    "U_pvalues=zeros((,)) # a container to store the solution in\n",
    "\n",
    "for i in range(0,len(P_values)):\n",
    "\n",
    "    # solve the linear system [D2][u]=[r_neg]\n",
    "\n",
    "    u = \n",
    "    U_pvalues[i,:]=u.copy() # store the solution\n",
    "\n",
    "# plot the data\n",
    "\n",
    "fig, ax = plt.subplots()\n",
    "for i in range(0,len(P_values)):\n",
    "    ax.plot(U_pvalues[i,:]/Ut,z/h, label='P ='+str(P_values[i]))\n",
    "ax.set_xlabel('$U/U_t$')\n",
    "ax.set_ylabel('$z/h$')\n",
    "ax.set_xlim(-0.75,)\n",
    "legend(loc=2);"
   ]
  },
  {
   "cell_type": "code",
   "execution_count": null,
   "metadata": {},
   "outputs": [],
   "source": []
  }
 ],
 "metadata": {
  "kernelspec": {
   "display_name": "Python 3",
   "language": "python",
   "name": "python3"
  },
  "language_info": {
   "codemirror_mode": {
    "name": "ipython",
    "version": 3
   },
   "file_extension": ".py",
   "mimetype": "text/x-python",
   "name": "python",
   "nbconvert_exporter": "python",
   "pygments_lexer": "ipython3",
   "version": "3.6.5"
  }
 },
 "nbformat": 4,
 "nbformat_minor": 2
}
