{
 "cells": [
  {
   "cell_type": "markdown",
   "metadata": {
    "collapsed": false
   },
   "source": [
    "# Links to help get started\n",
    "\n",
    "* [A few example and links](https://github.com/kstrm/Starting-out-with-python)"
   ]
  },
  {
   "cell_type": "markdown",
   "metadata": {
    "collapsed": false
   },
   "source": [
    "# Cell types"
   ]
  },
  {
   "cell_type": "markdown",
   "metadata": {
    "collapsed": false
   },
   "source": [
    "## Markdown... \n",
    "\n",
    "- good for writting. Can use standard markdown formatting (googgle if you don't know)\n",
    "- Can use Latex (the notebook uses MathJax)\n",
    "\n",
    "For example. Here is an equation inline: $F = ma$. And, here's an equation in display form:\n",
    "\n",
    "$$ E = \\frac{V^2}{2g}+y $$\n",
    "\n",
    "You can also use standard LaTex \"equation environment\" in:\n",
    "\n",
    "\\begin{equation}\n",
    "\\frac{\\partial (AC)}{\\partial t}+\\frac{\\partial (AUC)}{\\partial x}=\\frac{\\partial}{\\partial x}\\left(AD\\frac{\\partial C}{\\partial x}\\right) +  b \\left(E_b - D_b \\right)\n",
    "\\end{equation}\n",
    "\n",
    "Equation reference is not yet available"
   ]
  },
  {
   "cell_type": "markdown",
   "metadata": {
    "collapsed": false
   },
   "source": [
    "## Code\n",
    "\n",
    "\"code\" cell block are the computations are actually performed."
   ]
  },
  {
   "cell_type": "markdown",
   "metadata": {
    "collapsed": false
   },
   "source": [
    "# Let's get started"
   ]
  },
  {
   "cell_type": "code",
   "execution_count": 0,
   "metadata": {
    "collapsed": false
   },
   "outputs": [
   ],
   "source": [
    "#%pylab\" imports a bunch of stuff from numpy and matplotlib, \"inline\" allows for the plots to showup inline within the notebook.\n",
    "\n",
    "\n",
    "#use this if you have a retina display... comment out when printing to pdf\n",
    "# %config InlineBackend.figure_format='retina' \n",
    "\n",
    "# will need for solver\n",
    "# from scipy.optimize import fsolve"
   ]
  },
  {
   "cell_type": "markdown",
   "metadata": {
    "collapsed": false
   },
   "source": [
    "## Arrays"
   ]
  },
  {
   "cell_type": "code",
   "execution_count": 0,
   "metadata": {
    "collapsed": false
   },
   "outputs": [
   ],
   "source": [
    "# 100 pt array that ranges from 0 to 10*pi in even increments (float)\n",
    "x = \n",
    "\n",
    "# 100 pt array of integers ranging from 0 to 100-1\n",
    "xint = "
   ]
  },
  {
   "cell_type": "code",
   "execution_count": 0,
   "metadata": {
    "collapsed": false
   },
   "outputs": [
   ],
   "source": [
    "# returns the x values from spots 0, 1, 2 in the array\n",
    "x[]"
   ]
  },
  {
   "cell_type": "code",
   "execution_count": 0,
   "metadata": {
    "collapsed": false
   },
   "outputs": [
   ],
   "source": [
    "# returns the xint values from spots 0, 1, 2 in the array\n"
   ]
  },
  {
   "cell_type": "code",
   "execution_count": 0,
   "metadata": {
    "collapsed": false
   },
   "outputs": [
   ],
   "source": [
    "# create y1 as being the sin of x\n",
    "y1 = \n",
    "\n",
    "# create y2 as y1 * xint\n",
    "y2 = \n",
    "\n",
    "# create y3 as x^2\n"
   ]
  },
  {
   "cell_type": "markdown",
   "metadata": {
    "collapsed": false
   },
   "source": [
    "## Plotting"
   ]
  },
  {
   "cell_type": "code",
   "execution_count": 0,
   "metadata": {
    "collapsed": false
   },
   "outputs": [
   ],
   "source": [
    "# plot y1 vs x\n",
    "plot(x,y1)\n",
    "xlabel('x')\n",
    "ylabel('y');"
   ]
  },
  {
   "cell_type": "code",
   "execution_count": 0,
   "metadata": {
    "collapsed": false
   },
   "outputs": [
   ],
   "source": [
    "# plot y2 vs x\n",
    "plot()\n",
    "xlabel('$x$')\n",
    "ylabel('');"
   ]
  },
  {
   "cell_type": "code",
   "execution_count": 0,
   "metadata": {
    "collapsed": false
   },
   "outputs": [
   ],
   "source": [
    "# plot several lines on the same figure\n",
    "\n",
    "# plot x vs y3, x vs 2*y3, x vs -2*y3\n",
    "\n",
    "fig,ax = plt.subplots()\n",
    "ax.plot(x, y3, label = '$x^2$')\n",
    "ax.plot(, , label = '')\n",
    "\n",
    "ax.set_xlabel('$x$')\n",
    "ax.set_ylabel('$y$')\n",
    "legend();"
   ]
  },
  {
   "cell_type": "markdown",
   "metadata": {
    "collapsed": false
   },
   "source": [
    "## Define a function"
   ]
  },
  {
   "cell_type": "markdown",
   "metadata": {
    "collapsed": false
   },
   "source": [
    "Under uniform flow conditions the shear velocity can be defined..."
   ]
  },
  {
   "cell_type": "code",
   "execution_count": 0,
   "metadata": {
    "collapsed": false
   },
   "outputs": [
   ],
   "source": [
    "# the shear velocity\n",
    "\n",
    "def shearvel(g,h,S):\n",
    "\n",
    "# now use the function"
   ]
  },
  {
   "cell_type": "markdown",
   "metadata": {
    "collapsed": false
   },
   "source": [
    "## Solve an implicit equation\n",
    "\n",
    "use a defined function + fslove to the Colebrook equation:\n",
    "\n",
    "$$ \\frac{1}{\\sqrt{f}}=-0.86\\ln\\left(\\frac{e}{3.7D}+\\frac{2.51}{R_e\\sqrt{f}}\\right) $$\n",
    "\n",
    "Goal: sovle for $f$ given $e$, $D$, and $R_e$\n",
    "\n",
    "We will use the fsolve function in scipy: f_solution = fsolve(defname,fguess, args=(list))"
   ]
  },
  {
   "cell_type": "code",
   "execution_count": 0,
   "metadata": {
    "collapsed": false
   },
   "outputs": [
   ],
   "source": [
    "def colebrook(f,e,D,Re):\n",
    "    return (1/sqrt(f))+0.86*log((e/(3.7*D))+(2.51/(Re*sqrt(f))))\n",
    "\n",
    "e = 0.00015\n",
    "D = 10/100\n",
    "Re = 10**5\n",
    "\n",
    "fguess = 0.015\n",
    "\n",
    "f_solution = fsolve(colebrook,fguess, args=(e,D,Re))\n",
    "\n",
    "print('The Darcy Weisbach friction factor f is =', f_solution)\n",
    "\n",
    "print('The Darcy Weisbach friction factor f is =', around(f_solution,decimals=3))"
   ]
  },
  {
   "cell_type": "code",
   "execution_count": 0,
   "metadata": {
    "collapsed": false
   },
   "outputs": [
   ],
   "source": [
   ]
  }
 ],
 "metadata": {
  "anaconda-cloud": {
  },
  "kernelspec": {
   "display_name": "Python 3 (Ubuntu Linux)",
   "language": "python",
   "name": "python3"
  },
  "language_info": {
   "codemirror_mode": {
    "name": "ipython",
    "version": 3
   },
   "file_extension": ".py",
   "mimetype": "text/x-python",
   "name": "python",
   "nbconvert_exporter": "python",
   "pygments_lexer": "ipython3",
   "version": "3.6.5"
  }
 },
 "nbformat": 4,
 "nbformat_minor": 0
}