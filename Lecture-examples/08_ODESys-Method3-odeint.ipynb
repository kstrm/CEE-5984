{
 "cells": [
  {
   "cell_type": "markdown",
   "metadata": {},
   "source": [
    "# A system of ODEs: Method 3 - using SciPy's ```odeint```"
   ]
  },
  {
   "cell_type": "code",
   "execution_count": null,
   "metadata": {},
   "outputs": [],
   "source": [
    "# our standard import\n",
    "%pylab inline\n",
    "%config InlineBackend.figure_format='retina' # hig-res plots for a Retina display\n",
    "# import odeint\n"
   ]
  },
  {
   "cell_type": "markdown",
   "metadata": {},
   "source": [
    "## A predator-prey relationship for Rabbits and Foxes\n",
    "\n",
    "The predator-prey relationship is a classic coupled ODE system. Here we describe the coupled population dynamics of rabbits, $R$, and foxes, $F$, with the following:\n",
    "\n",
    "\\begin{align}\n",
    "\\frac{dR}{dt} &= aR-bRF \\\\\n",
    "\\frac{dF}{dt} &= -lF+kRF \n",
    "\\end{align}\n",
    "\n",
    "where $R$ and $F$ are the population values of rabbits and foxes. The coefficients are defined as:\n",
    "\n",
    "\\begin{align}\n",
    "a &= \\text{base birth rate of rabits}  \\\\\n",
    "b &= \\text{prey factor}  \\\\\n",
    "l &= \\text{fox base diminishing rate}\\\\\n",
    "k &= \\text{feeding rate}\n",
    "\\end{align}\n",
    "\n",
    "This coupled system of equations is solved below using SciPy's ```odeint``` (for more information see the [SciPy documentation](https://docs.scipy.org/doc/scipy/reference/generated/scipy.integrate.odeint.html))."
   ]
  },
  {
   "cell_type": "markdown",
   "metadata": {},
   "source": [
    "## Method 3: using Scipy ```odeint```"
   ]
  },
  {
   "cell_type": "code",
   "execution_count": null,
   "metadata": {},
   "outputs": [],
   "source": [
    "# --- User input ------------\n",
    "\n",
    "# define the ODE system of equations\n",
    "def df(ic,t): # the variable order matters need ic and then the array long which to integrate.\n",
    "    R, F =\n",
    "\n",
    "    return [dR, dF]\n",
    "\n",
    "# define the number of points and the start and stop locations\n",
    "start = 0\n",
    "end = 50\n",
    "dt = 0.01\n",
    "R_0 = 500\n",
    "F_0 = 100\n",
    "\n",
    "# define the coefficients\n",
    "a = 0.5   # base birth rate of rabits\n",
    "b = 0.01 # pray factor\n",
    "l = 1      # fox base diminishing rate\n",
    "k = 0.005  # feeding rate\n",
    "\n",
    "# --- Calculations ------------\n",
    "\n",
    "# setup the t array\n",
    "t = arange(start,end,dt)\n",
    "\n",
    "# set the initial conditions\n",
    "ic = [,]\n",
    "\n",
    "# solve using odeint \n",
    "y = odeint(,,)"
   ]
  },
  {
   "cell_type": "code",
   "execution_count": null,
   "metadata": {},
   "outputs": [],
   "source": [
    "# look at the solution"
   ]
  },
  {
   "cell_type": "code",
   "execution_count": null,
   "metadata": {},
   "outputs": [],
   "source": [
    "y.shape"
   ]
  },
  {
   "cell_type": "code",
   "execution_count": null,
   "metadata": {},
   "outputs": [],
   "source": [
    "# --- plot the results  ------------\n",
    "\n",
    "fig, ax = plt.subplots()\n",
    "ax.plot(t,, label='Rabits')\n",
    "ax.plot(t,, label='Foxes')\n",
    "ax.set_xlabel('Time')\n",
    "ax.set_ylabel('Population')\n",
    "legend()\n",
    "\n",
    "fig, ax = plt.subplots()\n",
    "ax.plot(,)\n",
    "ax.set_xlabel('Rabits')\n",
    "ax.set_ylabel('Foxes');"
   ]
  },
  {
   "cell_type": "code",
   "execution_count": null,
   "metadata": {},
   "outputs": [],
   "source": [
    "# --- plot the results (all in one go) ------------\n",
    "\n",
    "fig, ax = plt.subplots()\n",
    "ax.plot(t,)\n",
    "ax.set_xlabel('Time')\n",
    "ax.set_ylabel('Population');"
   ]
  },
  {
   "cell_type": "code",
   "execution_count": null,
   "metadata": {},
   "outputs": [],
   "source": []
  }
 ],
 "metadata": {
  "kernelspec": {
   "display_name": "Python 3",
   "language": "python",
   "name": "python3"
  },
  "language_info": {
   "codemirror_mode": {
    "name": "ipython",
    "version": 3
   },
   "file_extension": ".py",
   "mimetype": "text/x-python",
   "name": "python",
   "nbconvert_exporter": "python",
   "pygments_lexer": "ipython3",
   "version": "3.6.5"
  }
 },
 "nbformat": 4,
 "nbformat_minor": 2
}
