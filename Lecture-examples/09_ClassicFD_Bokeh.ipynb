{
 "cells": [
  {
   "cell_type": "markdown",
   "metadata": {},
   "source": [
    "# Three classic spatial derivatives; use of Bokeh; and vector operations"
   ]
  },
  {
   "cell_type": "markdown",
   "metadata": {},
   "source": [
    "We will introduce the interactive plotting library Bokeh (for more on Bokeh, click [here](https://bokeh.pydata.org/en/latest/))."
   ]
  },
  {
   "cell_type": "code",
   "execution_count": null,
   "metadata": {},
   "outputs": [],
   "source": [
    "# import numpy so that it is available\n",
    "from numpy import *\n",
    "\n",
    "# import the typical matplotlib stuff... we will only use if for one plot.\n",
    "import matplotlib.pyplot as plt\n",
    "%matplotlib inline\n",
    "%config InlineBackend.figure_format='retina' # hig-res plots for a Retina display\n",
    "\n",
    "# import Bokeh stuff and define the tools\n",
    "from bokeh.io import output_notebook, show\n",
    "from bokeh.plotting import figure\n",
    "TOOLS = 'pan,box_zoom,wheel_zoom,hover,crosshair,save,reset'\n",
    "output_notebook()"
   ]
  },
  {
   "cell_type": "markdown",
   "metadata": {},
   "source": [
    "## Define a function and plot in the standard way"
   ]
  },
  {
   "cell_type": "markdown",
   "metadata": {},
   "source": [
    "Let's look at the function $f(x) = \\sin(x)$ and plot it from 0 to $6\\pi$ using 100 points"
   ]
  },
  {
   "cell_type": "code",
   "execution_count": null,
   "metadata": {},
   "outputs": [],
   "source": [
    "N = 100\n",
    "x = \n",
    "f = \n",
    "\n",
    "# standard matplotlib figure\n",
    "fig, ax = plt.subplots()\n",
    "ax.plot()\n",
    "ax.set_xlabel('$x$')\n",
    "ax.set_ylabel('$f$');"
   ]
  },
  {
   "cell_type": "markdown",
   "metadata": {},
   "source": [
    "## Plot using Bokeh"
   ]
  },
  {
   "cell_type": "code",
   "execution_count": null,
   "metadata": {},
   "outputs": [],
   "source": [
    "p = figure(plot_width=800, plot_height=400, tools=TOOLS, title=None)\n",
    "p.line(x, f, line_width=2)\n",
    "p.circle(x, f, fill_color='white',size=8)\n",
    "p.xaxis.axis_label = 'x'\n",
    "p.yaxis.axis_label = 'f=sin(x)'\n",
    "show(p)"
   ]
  },
  {
   "cell_type": "markdown",
   "metadata": {},
   "source": [
    "## Now let's estimate the derivative of $f$ using forward difference"
   ]
  },
  {
   "cell_type": "markdown",
   "metadata": {},
   "source": [
    "### Using for loops"
   ]
  },
  {
   "cell_type": "code",
   "execution_count": null,
   "metadata": {},
   "outputs": [],
   "source": [
    "# using forward difference (loop)\n",
    "\n",
    "df_f1 = zeros(N)\n",
    "\n",
    "for i in range(0,N):\n",
    "    df_f1[i]=   "
   ]
  },
  {
   "cell_type": "code",
   "execution_count": null,
   "metadata": {},
   "outputs": [],
   "source": [
    "# what about that last point? Recall that the last point can be accessed as [-1]\n",
    "df_f1[-1] "
   ]
  },
  {
   "cell_type": "code",
   "execution_count": null,
   "metadata": {},
   "outputs": [],
   "source": [
    "# let's use backwards difference for that point\n",
    "\n",
    "df_f1[-1]=\n",
    "df_f1[-1] "
   ]
  },
  {
   "cell_type": "code",
   "execution_count": null,
   "metadata": {},
   "outputs": [],
   "source": [
    "# note that we could have written\n",
    "\n",
    "ilast = N-1\n",
    "df_f1[ilast]=(f[ilast]-f[ilast-1])/(x[ilast]-x[ilast-1])\n",
    "df_f1[ilast] "
   ]
  },
  {
   "cell_type": "markdown",
   "metadata": {},
   "source": [
    "### Using vector operations and array slicing"
   ]
  },
  {
   "cell_type": "code",
   "execution_count": null,
   "metadata": {},
   "outputs": [],
   "source": [
    "# we can also perform a forward difference using vector operations and array slicing\n",
    "\n",
    "df_f2 = zeros(N)\n",
    "\n",
    "df_f2[:-1] =\n",
    "df_f2[-1] = "
   ]
  },
  {
   "cell_type": "markdown",
   "metadata": {},
   "source": [
    "### Now let's plot our FD differences against the analytic solution"
   ]
  },
  {
   "cell_type": "code",
   "execution_count": null,
   "metadata": {},
   "outputs": [],
   "source": [
    "p = figure(plot_width=800, plot_height=400, tools=TOOLS, title=None)\n",
    "p.circle(x, df_f1,color=\"blue\", alpha=0.5, size=8, legend=\"df/dx loop\")\n",
    "p.circle(x, df_f2, color=\"red\", alpha=0.5, size=4, legend=\"df/dx array\")\n",
    "p.line(x, cos(x), line_width=2, color=\"black\", legend=\"cos(x)\")\n",
    "p.xaxis.axis_label = 'x'\n",
    "p.yaxis.axis_label = 'd[sin(x)]/dx, cos(x)'\n",
    "show(p) "
   ]
  },
  {
   "cell_type": "markdown",
   "metadata": {},
   "source": [
    "## Estimate $df/dx$ with backward difference and central difference"
   ]
  },
  {
   "cell_type": "code",
   "execution_count": null,
   "metadata": {},
   "outputs": [],
   "source": [
    "df_f = zeros(N)\n",
    "df_b = zeros(N)\n",
    "df_c = zeros(N)\n",
    "\n",
    "# forward difference\n",
    "df_f[:-1] = (f[1:]-f[:-1])/(x[1:]-x[:-1])\n",
    "#df_f2[-1] = \n",
    "\n",
    "# backward difference\n",
    "df_b[1:] = (f[1:]-f[:-1])/(x[1:]-x[:-1])\n",
    "#df_b[0] = \n",
    "\n",
    "# centeral difference\n",
    "# df_c[0] \n",
    "df_c[1:-1] = \n",
    "# df_c[-1]"
   ]
  },
  {
   "cell_type": "code",
   "execution_count": null,
   "metadata": {},
   "outputs": [],
   "source": [
    "# plot the results\n",
    "p = figure(plot_width=800, plot_height=400, tools=TOOLS, title=None)\n",
    "p.circle(x, df_f,color=\"blue\", alpha=0.5, size=8, legend=\"Forward\")\n",
    "p.circle(x, df_b, color=\"red\", alpha=0.5, size=8, legend=\"Backward\")\n",
    "p.asterisk(x, df_c, color=\"green\", alpha=1, size=12, legend=\"Central\")\n",
    "p.line(x, cos(x), line_width=2, color=\"black\", legend=\"cos(x)\")\n",
    "p.xaxis.axis_label = 'x'\n",
    "p.yaxis.axis_label = 'd[sin(x)]/dx, cos(x)'\n",
    "show(p) "
   ]
  },
  {
   "cell_type": "code",
   "execution_count": null,
   "metadata": {},
   "outputs": [],
   "source": []
  }
 ],
 "metadata": {
  "kernelspec": {
   "display_name": "Python 3",
   "language": "python",
   "name": "python3"
  },
  "language_info": {
   "codemirror_mode": {
    "name": "ipython",
    "version": 3
   },
   "file_extension": ".py",
   "mimetype": "text/x-python",
   "name": "python",
   "nbconvert_exporter": "python",
   "pygments_lexer": "ipython3",
   "version": "3.7.4"
  }
 },
 "nbformat": 4,
 "nbformat_minor": 2
}
