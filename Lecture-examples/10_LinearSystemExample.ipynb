{
 "cells": [
  {
   "cell_type": "markdown",
   "metadata": {},
   "source": [
    "[Documentation](https://docs.scipy.org/doc/scipy/reference/tutorial/linalg.html) on `scipy.linalg` "
   ]
  },
  {
   "cell_type": "code",
   "execution_count": null,
   "metadata": {},
   "outputs": [],
   "source": [
    "%pylab inline\n",
    "%config InlineBackend.figure_format='retina' # hig-res plots for a Retina display\n",
    "import # there's also a numpy linear algebra package, but the scipy is suppose to be better"
   ]
  },
  {
   "cell_type": "markdown",
   "metadata": {},
   "source": [
    "## Linear system solution\n",
    "\n",
    "$$ 1a+1b = 35$$\n",
    "$$2a+4b=94$$\n",
    "\n",
    "$$A=\\begin{bmatrix} \n",
    "      1 & 1 \\\\\n",
    "      2 & 4 \\\\\n",
    "\\end{bmatrix}$$\n",
    "\n",
    "$$X=\\begin{bmatrix} \n",
    "      a \\\\\n",
    "      b \\\\\n",
    "\\end{bmatrix}$$\n",
    "\n",
    "$$B=\\begin{bmatrix} \n",
    "      35 \\\\\n",
    "      94 \\\\\n",
    "\\end{bmatrix}$$\n",
    "\n",
    "$$AX=B$$\n",
    "\n",
    "or\n",
    "\n",
    "$$ \\begin{bmatrix} \n",
    "      1 & 1 \\\\\n",
    "      2 & 4 \\\\\n",
    "\\end{bmatrix}\\begin{bmatrix} \n",
    "      a \\\\\n",
    "      b \\\\\n",
    "\\end{bmatrix} =\\begin{bmatrix} \n",
    "      35 \\\\\n",
    "      94 \\\\\n",
    "\\end{bmatrix}$$\n",
    "\n",
    "So, we need to invert $A$ to solve for $X$\n",
    "\n",
    "$$ A^{-1} AX = A^{-1} B \\\\ X = A^{-1} B $$\n"
   ]
  },
  {
   "cell_type": "code",
   "execution_count": null,
   "metadata": {},
   "outputs": [],
   "source": [
    "# find the inverse and multiply using matrix (2d array used for linear alg)\n",
    "\n",
    "# Defining matrixes\n",
    "A = matrix()\n",
    "B = matrix()\n",
    "\n",
    "# Taking inverse of A\n",
    "A_inverse =\n",
    "A_inverse\n"
   ]
  },
  {
   "cell_type": "code",
   "execution_count": null,
   "metadata": {},
   "outputs": [],
   "source": [
    "# Solving for X\n",
    "X = \n",
    "X"
   ]
  },
  {
   "cell_type": "code",
   "execution_count": null,
   "metadata": {},
   "outputs": [],
   "source": [
    "# using arrays (the better way) and linalg.solve\n",
    "\n",
    "a = \n",
    "b = \n",
    "x = \n",
    "\n",
    "print()"
   ]
  },
  {
   "cell_type": "code",
   "execution_count": null,
   "metadata": {},
   "outputs": [],
   "source": [
    "# using inverse and matrix multiplication\n",
    "\n",
    "a_inverse=\n"
   ]
  }
 ],
 "metadata": {
  "kernelspec": {
   "display_name": "Python 3",
   "language": "python",
   "name": "python3"
  },
  "language_info": {
   "codemirror_mode": {
    "name": "ipython",
    "version": 3
   },
   "file_extension": ".py",
   "mimetype": "text/x-python",
   "name": "python",
   "nbconvert_exporter": "python",
   "pygments_lexer": "ipython3",
   "version": "3.7.4"
  }
 },
 "nbformat": 4,
 "nbformat_minor": 2
}
