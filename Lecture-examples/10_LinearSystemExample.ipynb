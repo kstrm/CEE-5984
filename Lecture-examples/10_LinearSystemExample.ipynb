{
 "cells": [
  {
   "cell_type": "code",
   "execution_count": null,
   "metadata": {},
   "outputs": [],
   "source": [
    "%pylab inline\n",
    "%config InlineBackend.figure_format='retina' # hig-res plots for a Retina display\n",
    "import scipy.linalg # there's also a numpy linear algebra package, but the scipy is suppose to be better"
   ]
  },
  {
   "cell_type": "markdown",
   "metadata": {},
   "source": [
    "## Linear system solution\n",
    "\n",
    "$$ 1a+1b = 35$$\n",
    "$$2a+4b=94$$\n",
    "\n",
    "$$A=\\begin{bmatrix} \n",
    "      1 & 1 \\\\\n",
    "      2 & 4 \\\\\n",
    "\\end{bmatrix}$$\n",
    "\n",
    "$$X=\\begin{bmatrix} \n",
    "      a \\\\\n",
    "      b \\\\\n",
    "\\end{bmatrix}$$\n",
    "\n",
    "$$B=\\begin{bmatrix} \n",
    "      35 \\\\\n",
    "      94 \\\\\n",
    "\\end{bmatrix}$$\n",
    "\n",
    "$$AX=B$$\n",
    "\n",
    "or\n",
    "\n",
    "$$ \\begin{bmatrix} \n",
    "      1 & 1 \\\\\n",
    "      2 & 4 \\\\\n",
    "\\end{bmatrix}\\begin{bmatrix} \n",
    "      a \\\\\n",
    "      b \\\\\n",
    "\\end{bmatrix} =\\begin{bmatrix} \n",
    "      35 \\\\\n",
    "      94 \\\\\n",
    "\\end{bmatrix}$$\n",
    "\n",
    "So, we need to invert $A$ to solve for $X$\n",
    "\n",
    "$$ A^{-1} AX = A^{-1} B \\\\ X = A^{-1} B $$\n"
   ]
  },
  {
   "cell_type": "code",
   "execution_count": null,
   "metadata": {},
   "outputs": [],
   "source": [
    "# Solving following system of linear equation\n",
    "# 1a + 1b = 35\n",
    "# 2a + 4b = 94\n",
    "\n",
    "a = np.array([[1, 1],[2,4]])\n",
    "b = np.array([35, 94])\n",
    "x = \n",
    "\n",
    "print()"
   ]
  },
  {
   "cell_type": "code",
   "execution_count": null,
   "metadata": {},
   "outputs": [],
   "source": [
    "# Defining matrixes\n",
    "A = np.matrix([[1,1], [2,4]])\n",
    "B = np.matrix([[35], [94]])\n",
    "\n",
    "# Taking inverse of A\n",
    "A_inverse =\n",
    "\n",
    "# Solving for X\n",
    "X = A_inverse * B \n",
    "print(X)\n",
    "#http://docs.scipy.org/doc/numpy-1.10.1/reference/routines.linalg.html"
   ]
  }
 ],
 "metadata": {
  "kernelspec": {
   "display_name": "Python 3",
   "language": "python",
   "name": "python3"
  },
  "language_info": {
   "codemirror_mode": {
    "name": "ipython",
    "version": 3
   },
   "file_extension": ".py",
   "mimetype": "text/x-python",
   "name": "python",
   "nbconvert_exporter": "python",
   "pygments_lexer": "ipython3",
   "version": "3.6.5"
  }
 },
 "nbformat": 4,
 "nbformat_minor": 2
}
