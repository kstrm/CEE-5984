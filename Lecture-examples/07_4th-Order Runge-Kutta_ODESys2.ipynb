{
 "cells": [
  {
   "cell_type": "markdown",
   "metadata": {},
   "source": [
    "# A system of ODEs using RK4 in array form"
   ]
  },
  {
   "cell_type": "code",
   "execution_count": null,
   "metadata": {},
   "outputs": [],
   "source": [
    "%pylab inline\n",
    "%config InlineBackend.figure_format='retina' # hig-res plots for a Retina display"
   ]
  },
  {
   "cell_type": "markdown",
   "metadata": {},
   "source": [
    "## A predator-prey relationship for Rabbits and Foxes\n",
    "\n",
    "The predator-prey relationship is a classic coupled ODE system. Here we describe the coupled population dynamics of rabbits, $R$, and foxes, $F$, with the following:\n",
    "\n",
    "\\begin{align}\n",
    "\\frac{dR}{dt} &= aR-bRF \\\\\n",
    "\\frac{dF}{dt} &= -lF+kRF \n",
    "\\end{align}\n",
    "\n",
    "where $R$ and $F$ are the population values of rabbits and foxes. The coefficients are defined as:\n",
    "\n",
    "\\begin{align}\n",
    "a &= \\text{base birth rate of rabits}  \\\\\n",
    "b &= \\text{prey factor}  \\\\\n",
    "l &= \\text{fox base diminishing rate}\\\\\n",
    "k &= \\text{feeding rate}\n",
    "\\end{align}\n",
    "\n",
    "This coupled system of equations is solved below using 4th-order Runge-Kutta in two different ways. The first is by writing out all terms of the method for each equation. The second uses arrays."
   ]
  },
  {
   "cell_type": "markdown",
   "metadata": {},
   "source": [
    "## Method 2: write out the Runge-Kutta coefficient once and use arrays"
   ]
  },
  {
   "cell_type": "code",
   "execution_count": null,
   "metadata": {},
   "outputs": [],
   "source": [
    "# --- User input ------------\n",
    "\n",
    "# define the functions dy/dx = f(x,y)\n",
    "def f(t,y):\n",
    "    return array(,\n",
    "                  )\n",
    "\n",
    "# define the number of points and the start and stop locations\n",
    "start = 0\n",
    "end = 50\n",
    "dt = 0.01\n",
    "R_0 = 500\n",
    "F_0 = 100\n",
    "\n",
    "# define the coefficients\n",
    "a = 0.5   # base birth rate of rabits\n",
    "b = 0.01 # pray factor\n",
    "l = 1      # fox base diminishing rate\n",
    "k = 0.005  # feeding rate\n",
    "\n",
    "# --- Calculations ------------\n",
    "\n",
    "# setup the x and y arrays\n",
    "t = arange(start,end,dt)\n",
    "N = len(t)\n",
    "y = zeros(shape=(,))\n",
    "\n",
    "# set the initial condition\n",
    "y[]=[,]\n",
    "\n",
    "# 4th Order Runge Kutta loop \n",
    "for i in range(0,N-1):\n",
    "    K1 = f(t[i]          , y[]             )\n",
    "    K2 = f(t[i]+0.5*dt, y[]+0.5*dt*K1)\n",
    "    K3 = f(t[i]+0.5*dt, y[]+0.5*dt*K2)\n",
    "    K4 = f(t[i]+    dt, y[]+    dt*K3)\n",
    "    y[] = y[]+(dt/6)*(K1+2*K2+2*K3+K4)\n",
    "    \n",
    "# --- plot the results ------------\n",
    "\n",
    "fig, ax = plt.subplots()\n",
    "ax.plot(t,y[], label='rabits')\n",
    "ax.plot(t,y[], label='foxes')\n",
    "ax.set_xlabel('Time')\n",
    "ax.set_ylabel('Population')\n",
    "legend(loc=1);\n",
    "\n",
    "fig, ax = plt.subplots()\n",
    "ax.plot(y[],y[])\n",
    "ax.set_xlabel('Rabits')\n",
    "ax.set_ylabel('Foxes');"
   ]
  },
  {
   "cell_type": "code",
   "execution_count": null,
   "metadata": {},
   "outputs": [],
   "source": []
  }
 ],
 "metadata": {
  "kernelspec": {
   "display_name": "Python 3",
   "language": "python",
   "name": "python3"
  },
  "language_info": {
   "codemirror_mode": {
    "name": "ipython",
    "version": 3
   },
   "file_extension": ".py",
   "mimetype": "text/x-python",
   "name": "python",
   "nbconvert_exporter": "python",
   "pygments_lexer": "ipython3",
   "version": "3.6.5"
  }
 },
 "nbformat": 4,
 "nbformat_minor": 2
}
