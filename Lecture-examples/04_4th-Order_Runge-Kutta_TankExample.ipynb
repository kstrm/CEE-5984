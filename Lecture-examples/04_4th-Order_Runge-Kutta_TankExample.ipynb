{
 "cells": [
  {
   "cell_type": "markdown",
   "metadata": {},
   "source": [
    "# 4th-Order Runge-Kutta: Example with 1 ODE"
   ]
  },
  {
   "cell_type": "code",
   "execution_count": null,
   "metadata": {},
   "outputs": [],
   "source": [
    "%pylab inline\n",
    "%config InlineBackend.figure_format='retina' # hig-res plots for a Retina display"
   ]
  },
  {
   "cell_type": "markdown",
   "metadata": {},
   "source": [
    "## Detph as a function of time in a draining tank\n",
    "\n",
    "The following equation describe the time dependent solution of depth in a tank draining under atmospheric pressure through a drain line in the bottom of the tank:,\n",
    "\n",
    "\\begin{equation}\n",
    "\\frac{dh}{dt} = \\frac{4}{\\pi D^2}\\left(Q_{in}-\\frac{\\pi d^2}{4}\\sqrt{2gh}\\right)\n",
    "\\end{equation}\n",
    "\n",
    "Here $h=h(t)$ is the depth in the tank at any given time, $D$ is the diameter of the tank, $d$ is the diameter of the outlet, $Q_{in}$ is the volume flow rate of water entering the tank, and $g$ is the acceleration of gravity. Below this initial value problem is solved with 4th-order Runge-Kutta. "
   ]
  },
  {
   "cell_type": "code",
   "execution_count": null,
   "metadata": {},
   "outputs": [],
   "source": [
    "# Let's copy over our domain setup and RK4 method from the previous notebook -------\n",
    "\n",
    "# define the setup function\n",
    "def setup(start,end,y0,stepsize):\n",
    "    global t, y, N, dt # \"global\" will make arrays defined in the function available outside of the function\n",
    "    dt = stepsize\n",
    "    t = arange(start,end,dt)\n",
    "    N = len(t)\n",
    "    y = zeros(N)\n",
    "    y[0] = y0\n",
    "    return\n",
    "\n",
    "# the 4th-order Runge-Kutta method\n",
    "def RK4(t,y,f,dt):\n",
    "    for i in range(0,N-1):\n",
    "        K1 = f(t[i]       , y[i]          )\n",
    "        K2 = f(t[i]+0.5*dt, y[i]+0.5*dt*K1)\n",
    "        K3 = f(t[i]+0.5*dt, y[i]+0.5*dt*K2)\n",
    "        K4 = f(t[i]+dt    , y[i]+dt*K3    )\n",
    "        y[i+1] = y[i]+(dt/6)*(K1+2*K2+2*K3+K4)\n",
    "    return y\n",
    "\n",
    "# Now define the new functions -------\n",
    "\n",
    "# define the function dy/dt = f(t,y)\n",
    "def f(t,y):\n",
    "    \n",
    "\n",
    "# define the analytic solution\n",
    "def yexact(t):\n",
    "    "
   ]
  },
  {
   "cell_type": "code",
   "execution_count": null,
   "metadata": {},
   "outputs": [],
   "source": [
    "# --- User input ------------\n",
    "\n",
    "# tank properties\n",
    "g =  # acceleration of gravity\n",
    "D =     # tank diamter in ft or m\n",
    "d =  # drain diameter in ft or m\n",
    "Qin =   # tank fill rate in cfs or cms\n",
    "y0 =  # starting depth of water in the tank in ft or m\n",
    "start = \n",
    "end =  # run time in seconds\n",
    "stepsize =  # calculation step size in seconds\n",
    "\n",
    "# --- Calculations -----------\n",
    "\n",
    "# Numeric\n",
    "setup(start,end,y0,stepsize)\n",
    "y2 = RK4(t,y,f,dt).copy()\n",
    "\n",
    "# Exact\n",
    "t_a = linspace(start,end,1000)\n",
    "h_a = \n",
    "t_empty = # analytic time to empty in seconds\n",
    "print('analytic time to empty [min]=', around(t_empty/60,2))\n",
    "\n",
    "# --- Plot the results ------------\n",
    "\n",
    "fig, ax = plt.subplots()\n",
    "# --- analytic solution\n",
    "ax.plot(,, label='analytic')\n",
    "# --- numeric solution\n",
    "ax.plot(,, '-o', label='numerical')\n",
    "ax.set_xlabel('Time [min]')\n",
    "ax.set_ylabel('Depth in tank, $h$ [ft or m]')\n",
    "legend(loc=1);"
   ]
  },
  {
   "cell_type": "markdown",
   "metadata": {},
   "source": [
    "What is going on with the invalid value?"
   ]
  },
  {
   "cell_type": "code",
   "execution_count": null,
   "metadata": {},
   "outputs": [],
   "source": []
  },
  {
   "cell_type": "markdown",
   "metadata": {},
   "source": [
    "Try putting the code below into the RK4 loop under ```y[i+1]=```\n",
    "\n",
    "```\n",
    "        if y[i+1] <= 0.001*y0: # get out of the loop if there is a zero-ish number for y coming up\n",
    "            tstop=i+1\n",
    "            print('numeric time to empty [min]=', around(t[tstop]/60,2))\n",
    "            break```"
   ]
  },
  {
   "cell_type": "code",
   "execution_count": null,
   "metadata": {},
   "outputs": [],
   "source": []
  }
 ],
 "metadata": {
  "kernelspec": {
   "display_name": "Python 3",
   "language": "python",
   "name": "python3"
  },
  "language_info": {
   "codemirror_mode": {
    "name": "ipython",
    "version": 3
   },
   "file_extension": ".py",
   "mimetype": "text/x-python",
   "name": "python",
   "nbconvert_exporter": "python",
   "pygments_lexer": "ipython3",
   "version": "3.6.5"
  }
 },
 "nbformat": 4,
 "nbformat_minor": 2
}
