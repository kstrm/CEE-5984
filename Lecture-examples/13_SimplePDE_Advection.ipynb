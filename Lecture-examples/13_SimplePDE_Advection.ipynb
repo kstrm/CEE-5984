{
 "cells": [
  {
   "cell_type": "markdown",
   "metadata": {},
   "source": [
    "# The Advection Equation"
   ]
  },
  {
   "cell_type": "code",
   "execution_count": null,
   "metadata": {},
   "outputs": [],
   "source": [
    "%pylab inline\n",
    "%config InlineBackend.figure_format='retina' # hig-res plots for a Retina display"
   ]
  },
  {
   "cell_type": "markdown",
   "metadata": {},
   "source": [
    "As a first exercise, we'll solve the 1D linear convection equation with a *square wave* initial condition, defined as follows:\n",
    "\n",
    "\\begin{equation}\n",
    "u(x,0)=\\begin{cases}2 & \\text{where } 0.5\\leq x \\leq 1,\\\\\n",
    "1 & \\text{everywhere else in } (0, 2)\n",
    "\\end{cases}\n",
    "\\end{equation}\n",
    "\n",
    "<img style=\"float: center;\" src=\"figures/Uo_square.png\">\n",
    "\n",
    "Our spatial domain for the numerical solution will only cover the range $x\\in (0, 2)$."
   ]
  },
  {
   "cell_type": "markdown",
   "metadata": {},
   "source": [
    "## Setup"
   ]
  },
  {
   "cell_type": "code",
   "execution_count": null,
   "metadata": {},
   "outputs": [],
   "source": [
    "# setup the domain \n",
    "\n",
    "xstart = 0\n",
    "xend = 2\n",
    "nx = 50\n",
    "\n",
    "dt = 0.02\n",
    "\n",
    "c = 1\n",
    "\n",
    "dx = (xend-xstart)/(nx-1)\n",
    "x = linspace(xstart,xend,nx)"
   ]
  },
  {
   "cell_type": "code",
   "execution_count": null,
   "metadata": {},
   "outputs": [],
   "source": [
    "# setup the initial condition\n",
    "\n",
    "u0 = ones(nx)\n",
    "\n",
    "lbound = \n",
    "ubound = \n",
    "bounds = intersect1d(lbound, ubound)\n",
    "u0[bounds] = 2\n",
    "\n",
    "fig, ax = plt.subplots()\n",
    "ax.plot(x,u0, ls='--', lw=3, label='$t=0$')\n",
    "ax.set_xlabel('$x$')\n",
    "ax.set_ylabel('$u$')\n",
    "legend();"
   ]
  },
  {
   "cell_type": "markdown",
   "metadata": {},
   "source": [
    "## Use FTBS"
   ]
  },
  {
   "cell_type": "code",
   "execution_count": null,
   "metadata": {},
   "outputs": [],
   "source": [
    "# define the initial condition\n",
    "\n",
    "u = zeros(nx)\n",
    "u = u0.copy()\n",
    "\n",
    "# run the calculation\n",
    "\n",
    "nt = 25 # number of iterations\n",
    "\n",
    "for n in range(1,nt):  \n",
    "    un = u.copy()\n",
    "    # interior points\n",
    "    for i in range(1,nx): \n",
    "        u[i] = \n",
    "    \n",
    "time = dt*nt"
   ]
  },
  {
   "cell_type": "code",
   "execution_count": null,
   "metadata": {},
   "outputs": [],
   "source": [
    "# plot the results\n",
    "\n",
    "runt=str()\n",
    "\n",
    "fig, ax = plt.subplots()\n",
    "ax.plot(x,u0, ls='--', lw=3, label='$t=0$')\n",
    "ax.plot(x,u, ls='-', lw=3, label='$t=$'+)\n",
    "ax.set_xlabel('$x$')\n",
    "ax.set_ylabel('$u$')\n",
    "legend();"
   ]
  },
  {
   "cell_type": "markdown",
   "metadata": {},
   "source": [
    "Compare to the analytic solution"
   ]
  },
  {
   "cell_type": "code",
   "execution_count": null,
   "metadata": {},
   "outputs": [],
   "source": [
    "# let's just create a new x axis\n",
    "xa = zeros(nx)\n",
    "xa = (x+c*(time-dt))\n",
    "\n",
    "# plot the results\n",
    "\n",
    "fig, ax = plt.subplots()\n",
    "ax.plot(,, ls='--',color='k', lw=3, label='analytic')\n",
    "ax.plot(x,u, ls='-', lw=3, label='$t=$'+runt)\n",
    "ax.set_xlabel('$x$')\n",
    "ax.set_ylabel('$u$')\n",
    "legend();"
   ]
  },
  {
   "cell_type": "markdown",
   "metadata": {},
   "source": [
    "Let's put a periodic bc in and see what happens if we run it a long time"
   ]
  },
  {
   "cell_type": "code",
   "execution_count": null,
   "metadata": {},
   "outputs": [],
   "source": [
    "# run the calculation\n",
    "\n",
    "nt = 25 # number of iterations\n",
    "u = u0.copy()\n",
    "\n",
    "for n in range(1,nt):  \n",
    "\n",
    "    \n",
    "time = dt*nt\n",
    "runt=str(around(time, decimals=3))\n",
    "\n",
    "# plot the results\n",
    "\n",
    "fig, ax = plt.subplots()\n",
    "ax.plot(x,u0, ls='--', lw=3, label='$t=0$')\n",
    "ax.plot(x,u, ls='-', lw=3, label='$t=$'+runt)\n",
    "ax.set_xlabel('$x$')\n",
    "ax.set_ylabel('$u$')\n",
    "legend();"
   ]
  },
  {
   "cell_type": "markdown",
   "metadata": {},
   "source": [
    "## Using FTCS"
   ]
  },
  {
   "cell_type": "code",
   "execution_count": null,
   "metadata": {},
   "outputs": [],
   "source": [
    "# define the initial condition\n",
    "\n",
    "nt = 25\n",
    "\n",
    "u = zeros(nx)\n",
    "u = u0.copy()\n",
    "\n",
    "# run the calculation\n",
    "\n",
    "\n",
    "\n",
    "time = dt*nt\n",
    "runt=str(around(time, decimals=3))\n",
    "# plot the results\n",
    "\n",
    "fig, ax = plt.subplots()\n",
    "ax.plot(x,u0, ls='--', lw=3, label='$t=0$')\n",
    "ax.plot(x,u, ls='-', lw=3, label='$t=$'+runt)\n",
    "ax.set_xlabel('$x$')\n",
    "ax.set_ylabel('$u$')\n",
    "legend();"
   ]
  },
  {
   "cell_type": "markdown",
   "metadata": {},
   "source": [
    "## Other methods?"
   ]
  },
  {
   "cell_type": "code",
   "execution_count": null,
   "metadata": {},
   "outputs": [],
   "source": []
  }
 ],
 "metadata": {
  "kernelspec": {
   "display_name": "Python 3",
   "language": "python",
   "name": "python3"
  },
  "language_info": {
   "codemirror_mode": {
    "name": "ipython",
    "version": 3
   },
   "file_extension": ".py",
   "mimetype": "text/x-python",
   "name": "python",
   "nbconvert_exporter": "python",
   "pygments_lexer": "ipython3",
   "version": "3.6.5"
  }
 },
 "nbformat": 4,
 "nbformat_minor": 2
}
