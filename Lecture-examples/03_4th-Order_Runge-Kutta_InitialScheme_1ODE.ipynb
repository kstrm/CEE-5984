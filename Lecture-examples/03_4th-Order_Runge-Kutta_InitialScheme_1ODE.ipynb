{
 "cells": [
  {
   "cell_type": "markdown",
   "metadata": {},
   "source": [
    "# 4th-Order Runge-Kutta: initial scheme and one ODE"
   ]
  },
  {
   "cell_type": "code",
   "execution_count": null,
   "metadata": {},
   "outputs": [],
   "source": [
    "%pylab inline\n",
    "%config InlineBackend.figure_format='retina' # hig-res plots for a Retina display"
   ]
  },
  {
   "cell_type": "markdown",
   "metadata": {},
   "source": [
    "## Construct and test the scheme\n",
    "\n",
    "Here we will try our scheme out on a simple ODE for which we know the solution. Namely,\n",
    "\n",
    "\\begin{equation}\n",
    "\\frac{dy}{dx} = \\cos(x)\n",
    "\\end{equation}\n",
    "\n",
    "The solution being:\n",
    "\n",
    "\\begin{equation}\n",
    "y = \\sin(x)+C_1\n",
    "\\end{equation}\n",
    "\n",
    "where the constant $C_1=y(0)=\\cos(x=0)$. We will run the calculations from $x_0=0$ to $x_{N-1}=50$ with $\\Delta x = 1.5$."
   ]
  },
  {
   "cell_type": "code",
   "execution_count": null,
   "metadata": {},
   "outputs": [],
   "source": [
    "# define the function dy/dx = f(x,y) and the exact solution\n",
    "def f(x,y):\n",
    "\n",
    "# define the solution\n",
    "def ysol(x):\n"
   ]
  },
  {
   "cell_type": "code",
   "execution_count": null,
   "metadata": {},
   "outputs": [],
   "source": [
    "# define the number of points and the start and stop locations\n",
    "dx = 1.5\n",
    "start = 0\n",
    "end = 50\n",
    "y0 = cos(0)\n",
    "\n",
    "# setup the x array, step size, and initialize y and y[0]\n",
    "x = arange(start,end,dx)\n",
    "N = len(x)\n",
    "y = zeros(N)\n",
    "y[0] = y0\n",
    "\n",
    "# 4th Order Runge Kutta loop to solve for y[i+1]\n",
    "for i in range(0,N-1):\n",
    "    K1 = \n",
    "    K2 = \n",
    "    K3 = \n",
    "    K4 = \n",
    "    \n",
    "    y[i+1] = \n",
    "    \n",
    "# plot the results ------------\n",
    "fig, ax = plt.subplots()\n",
    "# --- analytic solution\n",
    "x_a = linspace(start,end,1000)\n",
    "c1 = cos(0)\n",
    "ax.plot(,, label='Analytic')\n",
    "# --- numeric solution\n",
    "ax.plot(,, '--', label='Numeric')\n",
    "ax.set_xlabel('$x$')\n",
    "ax.set_ylabel('$y$')\n",
    "legend(loc=1);"
   ]
  },
  {
   "cell_type": "markdown",
   "metadata": {},
   "source": [
    "## More on the use of the 4th Order Runge-Kutta method\n",
    "\n",
    "In this section we show how the solution can be changed for different ODE equations, and we show how the RG method can be placed in a function to make the method modular."
   ]
  },
  {
   "cell_type": "code",
   "execution_count": null,
   "metadata": {},
   "outputs": [],
   "source": [
    "# a general setup function for the domain (t and y) and initial values (y0)\n",
    "\n",
    "def setup(start,end,y0,stepsize):\n",
    "    global t, y, N, dt  # \"global\" will make arrays defined in the function available outside of the function\n",
    "    dt = \n",
    "    t = \n",
    "    N = \n",
    "    y = \n",
    "    y[0] = \n",
    "    return\n",
    "\n",
    "# an assortment of different dy/dt = f(x,t)\n",
    "\n",
    "def f1(t,y):\n",
    "    return sin(t)+cos(y)\n",
    "\n",
    "def f2(t,y):\n",
    "    return t*sin(t)+cos(y)\n",
    "\n",
    "def f3(t,y):\n",
    "    return t*sin(t)-2*t*cos(y)\n",
    "\n",
    "# the 4th-order Runge-Kutta method\n",
    "\n",
    "def RK4(t,y,f,dt):\n",
    "    for i in range(0,N-1):\n",
    "\n",
    "    return y"
   ]
  },
  {
   "cell_type": "markdown",
   "metadata": {},
   "source": [
    "The cell below allows for one to play with different domain setups and ODEs to integrate."
   ]
  },
  {
   "cell_type": "code",
   "execution_count": null,
   "metadata": {},
   "outputs": [],
   "source": [
    "# setup(start,end,y0,stepsize).\n",
    "setup(0,50,cos(0),1.5)\n",
    "\n",
    "# numerical solution RK4(y,ySolution,dy/dt function to integrate, setpsize)\n",
    "y2 = \n",
    "\n",
    "# plot the results ------------\n",
    "fig, ax = plt.subplots()\n",
    "ax.plot(t,y2)\n",
    "ax.set_xlabel('$t$')\n",
    "ax.set_ylabel('$y$');"
   ]
  }
 ],
 "metadata": {
  "kernelspec": {
   "display_name": "Python 3",
   "language": "python",
   "name": "python3"
  },
  "language_info": {
   "codemirror_mode": {
    "name": "ipython",
    "version": 3
   },
   "file_extension": ".py",
   "mimetype": "text/x-python",
   "name": "python",
   "nbconvert_exporter": "python",
   "pygments_lexer": "ipython3",
   "version": "3.6.5"
  }
 },
 "nbformat": 4,
 "nbformat_minor": 2
}
