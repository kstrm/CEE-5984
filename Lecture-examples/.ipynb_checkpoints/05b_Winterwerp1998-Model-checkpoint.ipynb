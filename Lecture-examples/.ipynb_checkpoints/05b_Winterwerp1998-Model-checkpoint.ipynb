{
 "cells": [
  {
   "cell_type": "markdown",
   "metadata": {},
   "source": [
    "# The Winterwerp (1998) model "
   ]
  },
  {
   "cell_type": "markdown",
   "metadata": {},
   "source": [
    "## Introduction"
   ]
  },
  {
   "cell_type": "markdown",
   "metadata": {},
   "source": [
    "**Summary:** This worksheet can be used to plot the Winterwerp (1998) model (W98). Follow this [link](https://github.com/FlocData/Floc-Analysis/blob/master/Winterwerp1998-Model-Fitting.ipynb) to find a worksheet that allows you to calibrate the W98 model to experimental data.\n",
    "\n",
    "**Overview of the W98 model:** The W98 model is an ODE which defines the rate change in floc size, $dD_f/dt$, as being equal to the rate of aggregation, $A$, minus the rate of breakup, $B$. \n",
    "\n",
    "$$\\frac{dD_f}{dt}=A-B$$\n",
    "\n",
    "Here $D_f$ is the mean floc diameter, $A$ is the floc aggregation rate [L/t], and $B$ is the floc breakup rate [L/t]. Solution to the equation yields $D_f$ as a function of time.\n",
    "\n",
    "The floc aggregation rate, $A$, is modeled in the formulation using collision theory in a turbulent environment for particles *smaller* than the Kolmogorov micro length scale; for reference, at $G=35$ s$^{-1}$, $\\eta\\approx 180$ $\\mu$m. The aggregation model assumes that there is no loss of suspended sediment and that the total number of primary particles remains constant during the process of flocculation. Based on this, the resulting aggregation term is,\n",
    "\n",
    "$$\n",
    "A=K_{a}^{'}\\frac{{D_{p}}^{n_{f}-3}}{n_{f}\\rho _{s}}GCD^{4-n_{f}}\n",
    "$$\n",
    "\n",
    "where $D_{p}$ is the primary particle size, $n_{f}$ is the fractal dimension, $\\rho _{s}$ is the sediment density, $G$ is the turbulent shear rate, $C$ is the sediment concentration [g/l], and $K_{a}^{'}$ is the collision efficiency coefficient that accounts for the fact that not all collisions result in aggregation. $K_{a}^{'}$ is an empirical coefficient that needs to be calibrated for each suspension of mud. The Winterwerp formulation for $B$ is:\n",
    "\n",
    "$$\n",
    "B=K_{b}^{'}\\frac{{D_{p}}^{-p}}{n_{f}}\\left ( \\frac{\\mu }{F_{y}} \\right )^{q}G^{q+1}\\left ( D-D_{p} \\right )^{p}D^{2q+1}\n",
    "$$\n",
    "\n",
    "where $\\mu$ is the dynamic fluid viscosity, $F_{y}$ is the floc strength $[N]$, $K_{b}^{'}$ is the breakup coefficient, and $p$ and $q$ are coefficients. In the model, $F_{y}$ and $K_{b}^{'}$ are functions of the sediment and water physico-chemical properties that need to be empirically determined. Winterwerp suggests $p=3-n_{f}$ and $q$ to be 0.5, respectively, with $F_{y} = 10^{-10}$ N for estuarine flocs.\n",
    "\n",
    "The equilibrium floc size, $D_{fe}$ is the defined as the size for which $A=B$.\n",
    "\n",
    "References:\n",
    "Winterwerp, J. C. (1998). A simple model for turbulence induced flocculation of cohesive sediment. Journal of Hydraulic Research, 36(3):309–326. http://dx.doi.org/10.1080/00221689809498621"
   ]
  },
  {
   "cell_type": "markdown",
   "metadata": {},
   "source": [
    "## Plotting W98"
   ]
  },
  {
   "cell_type": "markdown",
   "metadata": {},
   "source": [
    "###  Load the needed packages and define the model"
   ]
  },
  {
   "cell_type": "code",
   "execution_count": null,
   "metadata": {},
   "outputs": [],
   "source": [
    "%config InlineBackend.figure_format='retina' # hig-res plots for a Retina display\n",
    "\n",
    "# The W98 ODE to be integrated: dDdt = A-B using the primed coefficients\n",
    "\n",
    "# copy and pasted from previous notebooks\n",
    "\n",
    "def setup(start,end,y0,stepsize):\n",
    "    global t, y, N, dt  # \"global\" will make arrays defined in the function available outside of the function\n",
    "    dt = stepsize\n",
    "    t = arange(start,end,dt)\n",
    "    N = len(t)\n",
    "    y = zeros(N)\n",
    "    y[0] = y0\n",
    "    return\n",
    "\n",
    "def RK4(t,y,f,dt):\n",
    "    for i in range(0,N-1):\n",
    "        K1 = f(t[i]       , y[i]          )\n",
    "        K2 = f(t[i]+0.5*dt, y[i]+0.5*dt*K1)\n",
    "        K3 = f(t[i]+0.5*dt, y[i]+0.5*dt*K2)\n",
    "        K4 = f(t[i]+dt    , y[i]+dt*K3    )\n",
    "        y[i+1] = y[i]+(dt/6)*(K1+2*K2+2*K3+K4)\n",
    "    return y"
   ]
  },
  {
   "cell_type": "code",
   "execution_count": null,
   "metadata": {},
   "outputs": [],
   "source": [
    "# load the water properties\n"
   ]
  },
  {
   "cell_type": "markdown",
   "metadata": {},
   "source": [
    "### Plot the W98 model using the primed coefficients $K_a'$ and $K_b'$"
   ]
  },
  {
   "cell_type": "code",
   "execution_count": null,
   "metadata": {},
   "outputs": [],
   "source": [
    "\"\"\"\n",
    "User input --------------------------------------------------------\n",
    "\"\"\"\n",
    "# Fluid properties \n",
    "G = 35.          # turbulent shear rate[s-1]\n",
    "To = 20          # temperature in degC\n",
    "Sppt = 0         # salinity in parts per thousand \n",
    "\n",
    "# Sediment properties\n",
    "C =      # suspended sediment concentration [g/L]\n",
    "Dp =      # primary particle size [m]\n",
    "Fy = 1e-10       # floc yeild strength [N]\n",
    "rhos = 2500.     # sediment density [kg/m3]\n",
    "nf = 2.          # fractal dimension\n",
    "Ka = 0.4861      # PRIMED aggregation coef\n",
    "Kb = 6.22e-06    # PRIMED breakup coef\n",
    "\n",
    "# Calculation inputs \n",
    "\n",
    "\n",
    "\"\"\"\n",
    "Calculations ----------------------------------------------------\n",
    "\"\"\"\n",
    "# Pre-integration calcs and array setup\n",
    "rho = \n",
    "nu = \n",
    "mu =      \n",
    "p = 3.-nf\n",
    "q = 0.5\n",
    "\n",
    "# Setup time array for integration\n",
    "\n",
    "# Solution to the ODE dDf/dt, which will give Df=Df(t)\n",
    "\n",
    "\n",
    "Dfe = Df[-1]\n",
    "\n",
    "# Plot and print the results\n",
    "fig, ax = plt.subplots()\n",
    "ax.plot(,, label='W98')\n",
    "ax.set_xscale('log'),\n",
    "ax.set_xlabel('Time [min]')\n",
    "ax.set_ylabel('Floc Size, $D_{50}$  [$\\mu m$]')\n",
    "results ='$D_{fe}=%.0f$ $[µm]$\\n$K_{a,prime}=%.3f$\\n$K_{b,prime}=%1.2e$'%(Dfe*10**6,Ka,Kb)\n",
    "ax.text(t[0]/60,0.85*Dfe*10**6,results);"
   ]
  }
 ],
 "metadata": {
  "kernelspec": {
   "display_name": "Python 3",
   "language": "python",
   "name": "python3"
  },
  "language_info": {
   "codemirror_mode": {
    "name": "ipython",
    "version": 3
   },
   "file_extension": ".py",
   "mimetype": "text/x-python",
   "name": "python",
   "nbconvert_exporter": "python",
   "pygments_lexer": "ipython3",
   "version": "3.7.4"
  }
 },
 "nbformat": 4,
 "nbformat_minor": 4
}
