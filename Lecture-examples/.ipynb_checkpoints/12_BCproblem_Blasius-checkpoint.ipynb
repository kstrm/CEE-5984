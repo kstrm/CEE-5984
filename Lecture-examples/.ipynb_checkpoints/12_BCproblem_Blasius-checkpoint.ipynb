{
 "cells": [
  {
   "cell_type": "markdown",
   "metadata": {},
   "source": [
    "# Blasius Boundary Layer Solution"
   ]
  },
  {
   "cell_type": "code",
   "execution_count": null,
   "metadata": {},
   "outputs": [],
   "source": [
    "%pylab inline\n",
    "%config InlineBackend.figure_format='retina' # hig-res plots for a Retina display"
   ]
  },
  {
   "cell_type": "markdown",
   "metadata": {},
   "source": [
    "The Blasius boundary layer equation is a similar solution that reduces the governing 2D PDE for laminar boundary layer flow down to the following 3rd order ODE:\n",
    "\n",
    "\\begin{align}\n",
    "f''' + \\frac{1}{2}ff'' = 0\n",
    "\\end{align}\n",
    "\n",
    "where $f=f(\\eta)$. The velocity distrubution along the similarity variable, $\\eta$, can be found from $u(\\eta)=U_o f'$, where $U_o$ is the free stream velocity. The equation above can easily be transformed into a system of 1st-order ODEs,\n",
    "\n",
    "\\begin{align}\n",
    "f' &= g \\\\\n",
    "g' &= h \\\\\n",
    "h' &= -\\frac{1}{2}fh \\\\\n",
    "\\end{align}\n",
    "\n",
    "Note that $g=f'$, $h=f''$, and that the velocity profile is obtained from $g$. The three boundary conditions for the problem are\n",
    "\n",
    "\\begin{align}\n",
    "f(\\eta=0) &=  0\\\\\n",
    "f'(\\eta=0) &= 0 \\\\\n",
    "f'(\\eta \\rightarrow \\infty) &\\rightarrow 1 \\\\\n",
    "\\end{align}\n",
    "\n",
    "Note that $f'(\\eta \\rightarrow \\infty) \\rightarrow 1$ might be difficult to enforce and that no initial condition is given for $f''(\\eta=0)=h(\\eta=0)$. If there as a value for $h(\\eta=0)$, then we could proceed as we would with an initial value problem. The procedure we will use here is called a \"shooting\" method. To carry it out, we will (1) assume a value for $h(\\eta=0)$, (2) use 4th-order Runge-Kutta to solve for $f$, $g$, and $h$. We'll then check the value of $g$ at a large $\\eta$ value (say 10) to see if $g(\\eta\\rightarrow\\infty)\\rightarrow 1$. If it doesn't, then we'll need to update the value of $h(\\eta=0)$ until $g(\\eta\\rightarrow\\infty)\\rightarrow 1$. We'll start out the calculations with $h(\\eta=0)=1$."
   ]
  },
  {
   "cell_type": "markdown",
   "metadata": {},
   "source": [
    "## 1st pass using the assumed value for $h(\\eta=0)$"
   ]
  },
  {
   "cell_type": "code",
   "execution_count": null,
   "metadata": {},
   "outputs": [],
   "source": [
    "# --- User input ------------\n",
    "\n",
    "# define the number of points and the start and stop locations\n",
    "start = 0\n",
    "stop = 10     # eta value to stop at \n",
    "delta = 0.001  # Delta eta value\n",
    "\n",
    "# initial values\n",
    "f_0 = 0\n",
    "g_0 = 0\n",
    "h_0 = 1 # just a guess at this point\n",
    "\n",
    "# --- Calculations ------------\n",
    "\n",
    "# setup the x and y arrays\n",
    "eta = arange(,,)\n",
    "N = len(eta)\n",
    "y = zeros()\n",
    "y[:,0]=[,,]\n",
    "\n",
    "# define the functions dy/deta = f(eta,y)\n",
    "def f(eta,y):\n",
    "    return array([,,])\n",
    "\n",
    "# 4th Order Runge Kutta loop \n",
    "for i in range(0,N-1):\n",
    "    K1 = f(eta[i]          , y[:,i]             )\n",
    "    K2 = f(eta[i]+0.5*delta, y[:,i]+0.5*delta*K1)\n",
    "    K3 = f(eta[i]+0.5*delta, y[:,i]+0.5*delta*K2)\n",
    "    K4 = f(eta[i]+    delta, y[:,i]+    delta*K3)\n",
    "    y[:,i+1] = y[:,i]+(delta/6)*(K1+2*K2+2*K3+K4)\n",
    "    \n",
    "# --- plot the results ------------\n",
    "\n",
    "fig, ax = plt.subplots()\n",
    "ax.plot(eta,y[0,:], label='$f$')\n",
    "ax.plot(eta,y[1,:], label='$g$')\n",
    "ax.plot(eta,y[2,:], label='$h$')\n",
    "ax.set_xlabel('$\\eta$')\n",
    "ax.set_ylabel('$f$, $g$, $h$')\n",
    "ax.set_ylim(0,4)\n",
    "ax.set_xlim(0,6)\n",
    "legend(loc=2);"
   ]
  },
  {
   "cell_type": "code",
   "execution_count": null,
   "metadata": {},
   "outputs": [],
   "source": [
    "# look at the values as eta gets very large... y[1] should go to 1 (this is f'=g(eta))\n"
   ]
  },
  {
   "cell_type": "markdown",
   "metadata": {},
   "source": [
    "## Update the initial condition by trial and error\n",
    "Before doing so, let's build a function"
   ]
  },
  {
   "cell_type": "code",
   "execution_count": null,
   "metadata": {},
   "outputs": [],
   "source": [
    "# put as a function to make it easier to iterate\n",
    "\n",
    "def bbl(eta,y,f_0,g_0,h_0):\n",
    "    \n",
    "    return y"
   ]
  },
  {
   "cell_type": "code",
   "execution_count": null,
   "metadata": {},
   "outputs": [],
   "source": [
    "# try different values of ho (or f''(eta = 0))\n",
    "h_0 = 1\n",
    "bbl(eta,y,f_0,g_0,h_0)[1,-1]"
   ]
  },
  {
   "cell_type": "markdown",
   "metadata": {},
   "source": [
    "## Write a iterative loop to converge on an appropriate initial value automatically"
   ]
  },
  {
   "cell_type": "code",
   "execution_count": null,
   "metadata": {},
   "outputs": [],
   "source": [
    "# user input ----------------------------\n",
    "\n",
    "g_inf_target =   # target value of g out in the free stream\n",
    "error_lim =  # set the difference between solution and target value\n",
    "ho1 =             # inital guess one\n",
    "ho2 =             # initial guess two\n",
    "\n",
    "# calculations ----------------------------\n",
    "\n",
    "# define a difference function between the target and the solution\n",
    "\n",
    "def dif(ho,g_inf_target):\n",
    "    return \n",
    "\n",
    "# define the error as the absolute value of the difference\n",
    "\n",
    "error = abs(dif(ho2,g_inf_target))\n",
    "\n",
    "# iterate on the initial value of h until the solution for g in the free stream matches the target\n",
    "\n",
    "while :\n",
    "    diff1 =  \n",
    "    diff2 = \n",
    "    \n",
    "    dho = \n",
    "    \n",
    "    ho1 = ho2\n",
    "    ho2 = \n",
    "    error = abs(diff2)\n",
    "\n",
    "print('the initial boundary condition for f''(eta=0)=h(eta=0)=',ho2)"
   ]
  },
  {
   "cell_type": "code",
   "execution_count": null,
   "metadata": {},
   "outputs": [],
   "source": [
    "# solve with the correct boundary condition\n",
    "\n",
    "y=bbl(eta,y,f_0,g_0,ho2)\n",
    "\n",
    "# --- plot the results ------------\n",
    "\n",
    "fig, ax = plt.subplots()\n",
    "ax.plot(eta,y[0,:], label='$f$')\n",
    "ax.plot(eta,y[1,:], label='$g$')\n",
    "ax.plot(eta,y[2,:], label='$h$')\n",
    "ax.set_xlabel('$\\eta$')\n",
    "ax.set_ylabel('$f$, $g$, $h$')\n",
    "ax.set_ylim(0,4)\n",
    "ax.set_xlim(0,6)\n",
    "legend(loc=2);"
   ]
  },
  {
   "cell_type": "code",
   "execution_count": null,
   "metadata": {},
   "outputs": [],
   "source": [
    "# look at the values as eta get's very large... y[1] should go to 1 (this is F=F(eta))\n",
    "y[1,-1]"
   ]
  }
 ],
 "metadata": {
  "kernelspec": {
   "display_name": "Python 3",
   "language": "python",
   "name": "python3"
  },
  "language_info": {
   "codemirror_mode": {
    "name": "ipython",
    "version": 3
   },
   "file_extension": ".py",
   "mimetype": "text/x-python",
   "name": "python",
   "nbconvert_exporter": "python",
   "pygments_lexer": "ipython3",
   "version": "3.7.4"
  }
 },
 "nbformat": 4,
 "nbformat_minor": 2
}
