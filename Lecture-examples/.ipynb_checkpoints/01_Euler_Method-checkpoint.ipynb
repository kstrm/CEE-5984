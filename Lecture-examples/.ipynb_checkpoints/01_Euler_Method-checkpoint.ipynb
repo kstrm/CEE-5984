{
 "cells": [
  {
   "cell_type": "code",
   "execution_count": null,
   "metadata": {},
   "outputs": [],
   "source": [
    "# %config InlineBackend.figure_format='retina' # hig-res plots for a Retina display"
   ]
  },
  {
   "cell_type": "markdown",
   "metadata": {},
   "source": [
    "# Euler Method - Initial Example"
   ]
  },
  {
   "cell_type": "markdown",
   "metadata": {},
   "source": [
    "Solve the following equation:\n",
    "\n",
    "\\begin{equation}\n",
    "\\frac{d \\xi}{dt}=-2t^3 +12t^2 - 20t +8.8\n",
    "\\end{equation}\n",
    "\n",
    "using and explict Euler method. Solve it from $t=0$ to $t=5$. Take the initial condition as being $\\xi(t=0)=1$."
   ]
  },
  {
   "cell_type": "markdown",
   "metadata": {},
   "source": [
    "## Global input"
   ]
  },
  {
   "cell_type": "code",
   "execution_count": null,
   "metadata": {},
   "outputs": [],
   "source": [
    "# input the needed conditions\n",
    "tstart =\n",
    "tend =\n",
    "xi0 ="
   ]
  },
  {
   "cell_type": "markdown",
   "metadata": {},
   "source": [
    "## The analytic solution"
   ]
  },
  {
   "cell_type": "code",
   "execution_count": null,
   "metadata": {},
   "outputs": [],
   "source": [
    "# define the array\n",
    "t_a = \n",
    "xi_a = \n",
    "\n",
    "# plot the analytic solution\n",
    "fig, ax = plt.subplots()\n",
    "ax.plot() # make the line black \n",
    "ax.set_xlabel()\n",
    "ax.set_ylabel();"
   ]
  },
  {
   "cell_type": "markdown",
   "metadata": {},
   "source": [
    "## Initial numeric solution"
   ]
  },
  {
   "cell_type": "markdown",
   "metadata": {},
   "source": [
    "The new input needed is the value of $\\Delta t$"
   ]
  },
  {
   "cell_type": "code",
   "execution_count": null,
   "metadata": {},
   "outputs": [],
   "source": [
    "# input\n",
    "dt =\n",
    "\n",
    "# setup the array... use arange and dt for t and zeros for xi\n",
    "t = \n",
    "N =  # length of the t array\n",
    "\n",
    "xi =\n",
    "= # the initial condition\n",
    "\n",
    "# calculate xi numerically\n",
    "for i in range(,):"
   ]
  },
  {
   "cell_type": "code",
   "execution_count": null,
   "metadata": {},
   "outputs": [],
   "source": [
    "# plot the analytic and numeric solution"
   ]
  },
  {
   "cell_type": "markdown",
   "metadata": {},
   "source": [
    "## Quantitatively compare the numerical and analytic solutions\n",
    "What's the error between the the two solutions?"
   ]
  },
  {
   "cell_type": "code",
   "execution_count": null,
   "metadata": {},
   "outputs": [],
   "source": [
    "# let's calculate the error at each point\n",
    "\n",
    "xi_error = \n",
    "\n",
    "fig, ax = plt.subplots()\n",
    "ax.plot(t,xi, '-o', label='numeric')\n",
    "ax.plot(t,, 'k', label='analytic')\n",
    "ax.plot(t,xi_error, '-o', label='error')\n",
    "ax.set_xlabel('$t$')\n",
    "ax.set_ylabel(r'$\\xi$')\n",
    "legend();"
   ]
  },
  {
   "cell_type": "code",
   "execution_count": null,
   "metadata": {},
   "outputs": [],
   "source": [
    "# let's look at the error values\n",
    "print('the error at each point is \\n', xi_error)\n",
    "print('\\n sum of the error^2 at each point =', )"
   ]
  },
  {
   "cell_type": "markdown",
   "metadata": {},
   "source": [
    "## How could we improve the prediction?"
   ]
  },
  {
   "cell_type": "code",
   "execution_count": null,
   "metadata": {},
   "outputs": [],
   "source": [
    "# let's first write this using functions"
   ]
  },
  {
   "cell_type": "code",
   "execution_count": null,
   "metadata": {},
   "outputs": [],
   "source": [
    "# set the time step\n",
    "dt =\n",
    "\n",
    "# setup the numerical wave\n",
    "t = arange(0,tend,dt)\n",
    "N = len(t)\n",
    "xi = zeros(N)\n",
    "xi[0]=xi0\n",
    "\n",
    "# calculate xi numerically\n",
    "for i in range(0,N-1):\n",
    "\n",
    "# setup the analytic wave\n",
    "xi_a = \n",
    "\n",
    "# calculate the error \n",
    "xi_error = xi_a - xi\n",
    "\n",
    "# plot and print the error\n",
    "fig, ax = plt.subplots()\n",
    "ax.plot(t,xi, '-o', label='numeric')\n",
    "ax.plot(t,1+8.5*t-10*t**2+4*t**3-0.5*t**4, 'k', label='analytic')\n",
    "ax.plot(t,xi_error, '-o', label='error')\n",
    "ax.set_xlabel('$t$')\n",
    "ax.set_ylabel(r'$\\xi$')\n",
    "legend()\n",
    "print('sum of the error^2 at each point =', around(sum(xi_error**2), decimals=2));"
   ]
  },
  {
   "cell_type": "code",
   "execution_count": null,
   "metadata": {},
   "outputs": [],
   "source": []
  }
 ],
 "metadata": {
  "kernelspec": {
   "display_name": "Python 3",
   "language": "python",
   "name": "python3"
  },
  "language_info": {
   "codemirror_mode": {
    "name": "ipython",
    "version": 3
   },
   "file_extension": ".py",
   "mimetype": "text/x-python",
   "name": "python",
   "nbconvert_exporter": "python",
   "pygments_lexer": "ipython3",
   "version": "3.7.4"
  }
 },
 "nbformat": 4,
 "nbformat_minor": 2
}
