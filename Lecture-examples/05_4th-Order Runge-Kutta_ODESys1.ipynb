{
 "cells": [
  {
   "cell_type": "markdown",
   "metadata": {},
   "source": [
    "# A system of ODEs using RK4"
   ]
  },
  {
   "cell_type": "code",
   "execution_count": null,
   "metadata": {},
   "outputs": [],
   "source": [
    "%pylab inline\n",
    "%config InlineBackend.figure_format='retina' # hig-res plots for a Retina display"
   ]
  },
  {
   "cell_type": "markdown",
   "metadata": {},
   "source": [
    "## A predator-prey relationship for Rabbits and Foxes\n",
    "\n",
    "The predator-prey relationship is a classic coupled ODE system. Here we describe the coupled population dynamics of rabbits, $R$, and foxes, $F$, with the following:\n",
    "\n",
    "\\begin{align}\n",
    "\\frac{dR}{dt} &= aR-bRF \\\\\n",
    "\\frac{dF}{dt} &= -lF+kRF \n",
    "\\end{align}\n",
    "\n",
    "where $R$ and $F$ are the population values of rabbits and foxes. The coefficients are defined as:\n",
    "\n",
    "\\begin{align}\n",
    "a &= \\text{base birth rate of rabits}  \\\\\n",
    "b &= \\text{prey factor}  \\\\\n",
    "l &= \\text{fox base diminishing rate}\\\\\n",
    "k &= \\text{feeding rate}\n",
    "\\end{align}\n",
    "\n",
    "This coupled system of equations is solved below using 4th-order Runge-Kutta in two different ways. The first is by writing out all terms of the method for each equation. The second uses arrays."
   ]
  },
  {
   "cell_type": "markdown",
   "metadata": {},
   "source": [
    "## Method 1: write out the Runge-Kutta coefficients for each equation"
   ]
  },
  {
   "cell_type": "code",
   "execution_count": null,
   "metadata": {},
   "outputs": [],
   "source": [
    "# --- User input ------------\n",
    "\n",
    "# define the functions dy/dx = f(x,y)\n",
    "def fR(t,R,F):\n",
    "    \n",
    "def fF(t,R,F):\n",
    "    \n",
    "\n",
    "# define the number of points and the start and stop locations\n",
    "start = 0\n",
    "end = 50\n",
    "dt = 0.01\n",
    "y1_0 = 500\n",
    "y2_0 = 100\n",
    "\n",
    "# define the coefficients\n",
    "a = 0.5   # base birth rate of rabits\n",
    "b = 0.01 # prey factor\n",
    "l = 1      # fox base diminishing rate\n",
    "k = 0.005  # feeding rate\n",
    "\n",
    "# --- Calculations ------------\n",
    "\n",
    "# setup the x and y arrays\n",
    "t = \n",
    "N = \n",
    "y1 = zeros(N)\n",
    "y2 = zeros(N)\n",
    "y1[0] = y1_0\n",
    "y2[0] = y2_0\n",
    "\n",
    "# 4th Order Runge Kutta loop from single equation\n",
    "for i in range(0,N-1):\n",
    "    K1 = f(t[i]       , y[i]          )\n",
    "    K2 = f(t[i]+0.5*dt, y[i]+0.5*dt*K1)\n",
    "    K3 = f(t[i]+0.5*dt, y[i]+0.5*dt*K2)\n",
    "    K4 = f(t[i]+dt    , y[i]+dt*K3    )\n",
    "    y[i+1] = y[i]+(dt/6)*(K1+2*K2+2*K3+K4)\n",
    "\n",
    "    \n",
    "# --- plot the results ------------\n",
    "\n",
    "# rabits vs time and foxes vs time\n",
    "fig, ax = plt.subplots()\n",
    "ax.plot(,, label='rabits')\n",
    "ax.plot(,, label='foxes')\n",
    "ax.set_xlabel('Time')\n",
    "ax.set_ylabel('Population')\n",
    "legend(loc=1);\n",
    "\n",
    "# rabits vs foxes\n",
    "fig, ax = plt.subplots()\n",
    "ax.plot(y1,y2)\n",
    "ax.set_xlabel('Rabits')\n",
    "ax.set_ylabel('Foxes');"
   ]
  }
 ],
 "metadata": {
  "kernelspec": {
   "display_name": "Python 3",
   "language": "python",
   "name": "python3"
  },
  "language_info": {
   "codemirror_mode": {
    "name": "ipython",
    "version": 3
   },
   "file_extension": ".py",
   "mimetype": "text/x-python",
   "name": "python",
   "nbconvert_exporter": "python",
   "pygments_lexer": "ipython3",
   "version": "3.6.5"
  }
 },
 "nbformat": 4,
 "nbformat_minor": 2
}
