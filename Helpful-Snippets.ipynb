{
 "cells": [
  {
   "cell_type": "markdown",
   "metadata": {},
   "source": [
    "# Helpful Snippets\n",
    "\n",
    "This notebook contains helpful blocks of code relevant to CEE 5984 Modeling of Environmental Flows "
   ]
  },
  {
   "cell_type": "markdown",
   "metadata": {},
   "source": [
    "## Nice looking plots in notebooks and notebooks downloaded as a PDF\n",
    "\n",
    "Below are the comments to include upfront in a Jupyter notebook for (1) nice looking figures on a Retina display, and (2) pdf figures embedded in the download as \"PDF vis LaTeX.\""
   ]
  },
  {
   "cell_type": "code",
   "execution_count": 1,
   "metadata": {},
   "outputs": [],
   "source": [
    "# the the following line uncommented for nice looking plots on a retina display... comment out when downloading as \"PDF via LaTeX\"\n",
    "# %config InlineBackend.figure_format='retina'\n",
    "\n",
    "# the two lines below set the output plots to pdf (good when using download as \"PDF via LaTeX\")... comment out when running on a retina display in a browser \n",
    "from IPython.display import set_matplotlib_formats\n",
    "set_matplotlib_formats('png','pdf')"
   ]
  },
  {
   "cell_type": "markdown",
   "metadata": {},
   "source": [
    "## Density and viscosity of water: based on temperature and salinity"
   ]
  },
  {
   "cell_type": "code",
   "execution_count": null,
   "metadata": {},
   "outputs": [],
   "source": [
    "#returns the clear-water density in kg/m^3 as a function of temperature [in deg C] and salinity [ppt]\n",
    "def rho_cw(T,S): \n",
    "    rho_fresh=1000*(1-(T +288.9414)/(508929.2*(T+68.12963))*(T-3.9863)**2)\n",
    "    Acoef = 0.824493 - 0.0040899*T + 0.000076438*T**2 -0.00000082467*T**3 + 0.0000000053675*T**4\n",
    "    Bcoef = -0.005724 + 0.00010227*T - 0.0000016546*T**2\n",
    "    return rho_fresh + Acoef*S + Bcoef*S**(3/2) + 0.00048314*S**2 \n",
    "\n",
    "# returns the clear water kinimatic viscosity in [m^2/s] as a function of temperature [in deg C].\n",
    "def visc(T):\n",
    "    return 2.7488e-07+1.4907e-06*exp(-0.034812*T)"
   ]
  }
 ],
 "metadata": {
  "kernelspec": {
   "display_name": "Python 3",
   "language": "python",
   "name": "python3"
  },
  "language_info": {
   "codemirror_mode": {
    "name": "ipython",
    "version": 3
   },
   "file_extension": ".py",
   "mimetype": "text/x-python",
   "name": "python",
   "nbconvert_exporter": "python",
   "pygments_lexer": "ipython3",
   "version": "3.6.5"
  }
 },
 "nbformat": 4,
 "nbformat_minor": 2
}
