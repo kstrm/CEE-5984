{
 "cells": [
  {
   "cell_type": "markdown",
   "metadata": {},
   "source": [
    "# Helpful Snippets\n",
    "\n",
    "This notebook contains helpful blocks of code relevant to CEE 5984 Modeling of Environmental Flows "
   ]
  },
  {
   "cell_type": "markdown",
   "metadata": {},
   "source": [
    "## Nice looking plots in notebooks and notebooks downloaded as a PDF\n",
    "\n",
    "Below are the comments to include upfront in a Jupyter notebook for (1) nice looking figures on a Retina display, and (2) pdf figures embedded in the download as \"PDF vis LaTeX.\""
   ]
  },
  {
   "cell_type": "code",
   "execution_count": 1,
   "metadata": {},
   "outputs": [],
   "source": [
    "# the the following line uncommented for nice looking plots on a retina display... comment out when downloading as \"PDF via LaTeX\"\n",
    "# %config InlineBackend.figure_format='retina'\n",
    "\n",
    "# the two lines below set the output plots to pdf (good when using download as \"PDF via LaTeX\")... comment out when running on a retina display in a browser \n",
    "from IPython.display import set_matplotlib_formats\n",
    "set_matplotlib_formats('png','pdf')"
   ]
  },
  {
   "cell_type": "code",
   "execution_count": null,
   "metadata": {},
   "outputs": [],
   "source": []
  }
 ],
 "metadata": {
  "kernelspec": {
   "display_name": "Python 3",
   "language": "python",
   "name": "python3"
  },
  "language_info": {
   "codemirror_mode": {
    "name": "ipython",
    "version": 3
   },
   "file_extension": ".py",
   "mimetype": "text/x-python",
   "name": "python",
   "nbconvert_exporter": "python",
   "pygments_lexer": "ipython3",
   "version": "3.6.5"
  }
 },
 "nbformat": 4,
 "nbformat_minor": 2
}
